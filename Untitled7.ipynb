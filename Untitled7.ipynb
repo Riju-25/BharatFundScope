{
  "nbformat": 4,
  "nbformat_minor": 0,
  "metadata": {
    "colab": {
      "provenance": []
    },
    "kernelspec": {
      "name": "python3",
      "display_name": "Python 3"
    },
    "language_info": {
      "name": "python"
    }
  },
  "cells": [
    {
      "cell_type": "code",
      "source": [
        "import pandas as pd\n",
        "import numpy as np\n",
        "from sklearn.model_selection import train_test_split\n",
        "from sklearn.preprocessing import PowerTransformer\n",
        "from sklearn.ensemble import RandomForestRegressor\n",
        "from sklearn.metrics import mean_absolute_error, mean_absolute_percentage_error, mean_squared_error, r2_score\n",
        "\n",
        "# Load and clean\n",
        "df = pd.read_excel(\"startup_funding.xlsx\")\n",
        "df = df.drop(columns=['Sr No', 'Startup Name', 'Remarks', 'Date dd/mm/yyyy'])\n",
        "df = df.dropna(subset=['Industry Vertical', 'City Location', 'SubVertical', 'Investors Name', 'Amount in USD'])"
      ],
      "metadata": {
        "id": "wD2s1D8RHG7j"
      },
      "execution_count": null,
      "outputs": []
    },
    {
      "cell_type": "code",
      "source": [
        "# Outlier removal (top 5%)\n",
        "cap = df['Amount in USD'].quantile(0.95)\n",
        "df = df[df['Amount in USD'] <= cap]"
      ],
      "metadata": {
        "id": "I0FS4MSpHMoq"
      },
      "execution_count": null,
      "outputs": []
    },
    {
      "cell_type": "code",
      "source": [
        "# Feature: Num_Investors\n",
        "df['Num_Investors'] = df['Investors Name'].apply(lambda x: len(str(x).split(',')))\n",
        "\n",
        "# Group rare values\n",
        "def group_top(series, top_n=10):\n",
        "    top = series.value_counts().nlargest(top_n).index\n",
        "    return series.apply(lambda x: x if x in top else 'Other')\n",
        "\n",
        "for col in ['City Location', 'Industry Vertical', 'SubVertical']:\n",
        "    df[col] = group_top(df[col])"
      ],
      "metadata": {
        "id": "rWxl15c0HOts"
      },
      "execution_count": null,
      "outputs": []
    },
    {
      "cell_type": "code",
      "source": [
        "# Frequency encode\n",
        "for col in ['City Location', 'Industry Vertical', 'SubVertical']:\n",
        "    freq = df[col].value_counts()\n",
        "    df[col + '_freq'] = df[col].map(freq)"
      ],
      "metadata": {
        "id": "mnYcEOmPHSa4"
      },
      "execution_count": null,
      "outputs": []
    },
    {
      "cell_type": "code",
      "source": [
        "# Final feature set\n",
        "features = ['City Location_freq', 'Industry Vertical_freq', 'SubVertical_freq', 'Num_Investors']\n",
        "X = df[features]\n",
        "y = df['Amount in USD'].values.reshape(-1, 1)\n",
        "\n",
        "# Tier assignment (only for model selection, not used in input!)\n",
        "def assign_tier(amount):\n",
        "    if amount <= 5e5:\n",
        "        return 'Low'\n",
        "    elif amount <= 5e6:\n",
        "        return 'Medium'\n",
        "    else:\n",
        "        return 'High'\n",
        "\n",
        "df['Tier_Label'] = df['Amount in USD'].apply(assign_tier)\n"
      ],
      "metadata": {
        "id": "E0JSbsB-HZ_e"
      },
      "execution_count": null,
      "outputs": []
    },
    {
      "cell_type": "code",
      "source": [
        "# Split\n",
        "X_train, X_test, y_train_raw, y_test_raw = train_test_split(X, y, test_size=0.2, random_state=42)\n",
        "tier_train = [assign_tier(a[0]) for a in y_train_raw]\n",
        "tier_test = [assign_tier(a[0]) for a in y_test_raw]\n",
        "\n",
        "# Train 3 models (with PowerTransformer per tier)\n",
        "models = {}\n",
        "pts = {}\n",
        "\n",
        "for tier in ['Low', 'Medium', 'High']:\n",
        "    # Get samples of that tier\n",
        "    X_tier = X_train[np.array(tier_train) == tier]\n",
        "    y_tier = y_train_raw[np.array(tier_train) == tier]\n",
        "\n",
        "    pt = PowerTransformer()\n",
        "    y_trans = pt.fit_transform(y_tier)\n",
        "\n",
        "    model = RandomForestRegressor(n_estimators=100, random_state=42)\n",
        "    model.fit(X_tier, y_trans.ravel())\n",
        "\n",
        "    models[tier] = model\n",
        "    pts[tier] = pt\n"
      ],
      "metadata": {
        "id": "WUuyr_dLHgd9"
      },
      "execution_count": null,
      "outputs": []
    },
    {
      "cell_type": "code",
      "execution_count": null,
      "metadata": {
        "colab": {
          "base_uri": "https://localhost:8080/"
        },
        "id": "ZfzhPnr5kBnC",
        "outputId": "743be788-7314-4ea5-ca17-ef58b9596a6b"
      },
      "outputs": [
        {
          "output_type": "stream",
          "name": "stdout",
          "text": [
            "📊 Final Unified Evaluation Across All Tiers:\n",
            "R² Score: 0.4037\n",
            "MAE: ₹3,781,212.35\n",
            "MAPE: 68.91%\n",
            "RMSE: ₹8,870,585.02\n"
          ]
        }
      ],
      "source": [
        "# Predict using corresponding model\n",
        "y_preds = []\n",
        "y_trues = []\n",
        "\n",
        "for i in range(len(X_test)):\n",
        "    x_sample = X_test.iloc[i:i+1]\n",
        "    true_val = y_test_raw[i][0]\n",
        "    tier = assign_tier(true_val)\n",
        "\n",
        "    model = models[tier]\n",
        "    pt = pts[tier]\n",
        "\n",
        "    y_pred_trans = model.predict(x_sample)[0]\n",
        "    y_pred = pt.inverse_transform([[y_pred_trans]])[0][0]\n",
        "\n",
        "    y_preds.append(y_pred)\n",
        "    y_trues.append(true_val)\n",
        "\n",
        "# Evaluation\n",
        "r2 = r2_score(y_trues, y_preds)\n",
        "mae = mean_absolute_error(y_trues, y_preds)\n",
        "mape = mean_absolute_percentage_error(y_trues, y_preds)\n",
        "rmse = np.sqrt(mean_squared_error(y_trues, y_preds))\n",
        "\n",
        "print(\"📊 Final Unified Evaluation Across All Tiers:\")\n",
        "print(f\"R² Score: {r2:.4f}\")\n",
        "print(f\"MAE: ₹{mae:,.2f}\")\n",
        "print(f\"MAPE: {mape*100:.2f}%\")\n",
        "print(f\"RMSE: ₹{rmse:,.2f}\")\n"
      ]
    },
    {
      "cell_type": "code",
      "source": [
        "import pickle\n",
        "\n",
        "# Save each model and transformer\n",
        "for tier in ['Low', 'Medium', 'High']:\n",
        "    with open(f'{tier}_model.pkl', 'wb') as f:\n",
        "        pickle.dump(models[tier], f)\n",
        "    with open(f'{tier}_pt.pkl', 'wb') as f:\n",
        "        pickle.dump(pts[tier], f)\n"
      ],
      "metadata": {
        "id": "CfZlszkGHE0c"
      },
      "execution_count": null,
      "outputs": []
    }
  ]
}